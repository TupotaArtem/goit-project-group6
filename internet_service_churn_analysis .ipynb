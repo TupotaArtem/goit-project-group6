{
 "cells": [
  {
   "cell_type": "code",
   "execution_count": 1,
   "metadata": {
    "execution": {
     "iopub.execute_input": "2025-07-22T19:00:58.343833Z",
     "iopub.status.busy": "2025-07-22T19:00:58.343518Z",
     "iopub.status.idle": "2025-07-22T19:00:58.540069Z",
     "shell.execute_reply": "2025-07-22T19:00:58.539109Z",
     "shell.execute_reply.started": "2025-07-22T19:00:58.343810Z"
    },
    "id": "RYpcpEGbVdg4"
   },
   "outputs": [],
   "source": [
    "# --- Імпорт бібліотек ---\n",
    "import pandas as pd\n",
    "import numpy as np\n",
    "import matplotlib.pyplot as plt\n",
    "import seaborn as sns\n",
    "import plotly.express as px\n",
    "\n",
    "# Дозволяє відображати графіки прямо в ноутбуці\n",
    "%matplotlib inline\n",
    "\n",
    "# Імпортуємо необхідні модулі для трансформації даних, побудови моделей та оцінки якості\n",
    "from sklearn.preprocessing import StandardScaler, MinMaxScaler, OneHotEncoder, LabelEncoder\n",
    "from sklearn.compose import ColumnTransformer\n",
    "from sklearn.linear_model import LogisticRegression\n",
    "from sklearn.model_selection import train_test_split, cross_val_score\n",
    "from sklearn.metrics import accuracy_score, precision_score, recall_score, f1_score\n",
    "from sklearn.feature_selection import SelectKBest, f_classif\n",
    "from sklearn.ensemble import RandomForestClassifier\n",
    "from xgboost import XGBClassifier\n",
    "import pickle\n",
    "import os"
   ]
  },
  {
   "cell_type": "markdown",
   "metadata": {
    "id": "9ziDhDgzTWv-"
   },
   "source": [
    "## **1. Аналіз Даних (EDA)**"
   ]
  },
  {
   "cell_type": "code",
   "execution_count": 2,
   "metadata": {
    "execution": {
     "iopub.execute_input": "2025-07-22T18:45:23.126503Z",
     "iopub.status.busy": "2025-07-22T18:45:23.125979Z",
     "iopub.status.idle": "2025-07-22T18:45:23.132082Z",
     "shell.execute_reply": "2025-07-22T18:45:23.130850Z",
     "shell.execute_reply.started": "2025-07-22T18:45:23.126477Z"
    },
    "id": "xZBBzClQYk8u"
   },
   "outputs": [],
   "source": [
    "#завантаження датасет\n",
    "dataset_url = \"https://drive.google.com/uc?export=download&id=1rrowhashf4ibJkV-cfZG5Fl1o_UrL8bB\""
   ]
  },
  {
   "cell_type": "code",
   "execution_count": 3,
   "metadata": {
    "colab": {
     "base_uri": "https://localhost:8080/",
     "height": 226
    },
    "execution": {
     "iopub.execute_input": "2025-07-22T18:45:23.136129Z",
     "iopub.status.busy": "2025-07-22T18:45:23.135798Z",
     "iopub.status.idle": "2025-07-22T18:45:25.402900Z",
     "shell.execute_reply": "2025-07-22T18:45:25.401905Z",
     "shell.execute_reply.started": "2025-07-22T18:45:23.136098Z"
    },
    "id": "nH_hOlpPcfJG",
    "outputId": "e221f26b-5069-4760-b592-4257bd60776f"
   },
   "outputs": [
    {
     "data": {
      "application/vnd.google.colaboratory.intrinsic+json": {
       "summary": "{\n  \"name\": \"df\",\n  \"rows\": 72274,\n  \"fields\": [\n    {\n      \"column\": \"id\",\n      \"properties\": {\n        \"dtype\": \"number\",\n        \"std\": 489102,\n        \"min\": 15,\n        \"max\": 1689744,\n        \"num_unique_values\": 72274,\n        \"samples\": [\n          643627,\n          718461,\n          967810\n        ],\n        \"semantic_type\": \"\",\n        \"description\": \"\"\n      }\n    },\n    {\n      \"column\": \"is_tv_subscriber\",\n      \"properties\": {\n        \"dtype\": \"number\",\n        \"std\": 0,\n        \"min\": 0,\n        \"max\": 1,\n        \"num_unique_values\": 2,\n        \"samples\": [\n          0,\n          1\n        ],\n        \"semantic_type\": \"\",\n        \"description\": \"\"\n      }\n    },\n    {\n      \"column\": \"is_movie_package_subscriber\",\n      \"properties\": {\n        \"dtype\": \"number\",\n        \"std\": 0,\n        \"min\": 0,\n        \"max\": 1,\n        \"num_unique_values\": 2,\n        \"samples\": [\n          1,\n          0\n        ],\n        \"semantic_type\": \"\",\n        \"description\": \"\"\n      }\n    },\n    {\n      \"column\": \"subscription_age\",\n      \"properties\": {\n        \"dtype\": \"number\",\n        \"std\": 2.034989872477875,\n        \"min\": -0.02,\n        \"max\": 12.8,\n        \"num_unique_values\": 1110,\n        \"samples\": [\n          1.89,\n          4.79\n        ],\n        \"semantic_type\": \"\",\n        \"description\": \"\"\n      }\n    },\n    {\n      \"column\": \"bill_avg\",\n      \"properties\": {\n        \"dtype\": \"number\",\n        \"std\": 13,\n        \"min\": 0,\n        \"max\": 406,\n        \"num_unique_values\": 179,\n        \"samples\": [\n          74,\n          13\n        ],\n        \"semantic_type\": \"\",\n        \"description\": \"\"\n      }\n    },\n    {\n      \"column\": \"reamining_contract\",\n      \"properties\": {\n        \"dtype\": \"number\",\n        \"std\": 0.6971022671441374,\n        \"min\": 0.0,\n        \"max\": 2.92,\n        \"num_unique_values\": 247,\n        \"samples\": [\n          1.88,\n          0.01\n        ],\n        \"semantic_type\": \"\",\n        \"description\": \"\"\n      }\n    },\n    {\n      \"column\": \"service_failure_count\",\n      \"properties\": {\n        \"dtype\": \"number\",\n        \"std\": 0,\n        \"min\": 0,\n        \"max\": 19,\n        \"num_unique_values\": 19,\n        \"samples\": [\n          0,\n          10\n        ],\n        \"semantic_type\": \"\",\n        \"description\": \"\"\n      }\n    },\n    {\n      \"column\": \"download_avg\",\n      \"properties\": {\n        \"dtype\": \"number\",\n        \"std\": 63.40596301660095,\n        \"min\": 0.0,\n        \"max\": 4415.2,\n        \"num_unique_values\": 2856,\n        \"samples\": [\n          155.9,\n          170.5\n        ],\n        \"semantic_type\": \"\",\n        \"description\": \"\"\n      }\n    },\n    {\n      \"column\": \"upload_avg\",\n      \"properties\": {\n        \"dtype\": \"number\",\n        \"std\": 9.818896361042658,\n        \"min\": 0.0,\n        \"max\": 453.3,\n        \"num_unique_values\": 802,\n        \"samples\": [\n          22.5,\n          44.8\n        ],\n        \"semantic_type\": \"\",\n        \"description\": \"\"\n      }\n    },\n    {\n      \"column\": \"download_over_limit\",\n      \"properties\": {\n        \"dtype\": \"number\",\n        \"std\": 0,\n        \"min\": 0,\n        \"max\": 7,\n        \"num_unique_values\": 8,\n        \"samples\": [\n          3,\n          1\n        ],\n        \"semantic_type\": \"\",\n        \"description\": \"\"\n      }\n    },\n    {\n      \"column\": \"churn\",\n      \"properties\": {\n        \"dtype\": \"number\",\n        \"std\": 0,\n        \"min\": 0,\n        \"max\": 1,\n        \"num_unique_values\": 2,\n        \"samples\": [\n          1,\n          0\n        ],\n        \"semantic_type\": \"\",\n        \"description\": \"\"\n      }\n    }\n  ]\n}",
       "type": "dataframe",
       "variable_name": "df"
      },
      "text/html": [
       "\n",
       "  <div id=\"df-6330b0c3-3673-4052-8424-38244add1d08\" class=\"colab-df-container\">\n",
       "    <div>\n",
       "<style scoped>\n",
       "    .dataframe tbody tr th:only-of-type {\n",
       "        vertical-align: middle;\n",
       "    }\n",
       "\n",
       "    .dataframe tbody tr th {\n",
       "        vertical-align: top;\n",
       "    }\n",
       "\n",
       "    .dataframe thead th {\n",
       "        text-align: right;\n",
       "    }\n",
       "</style>\n",
       "<table border=\"1\" class=\"dataframe\">\n",
       "  <thead>\n",
       "    <tr style=\"text-align: right;\">\n",
       "      <th></th>\n",
       "      <th>id</th>\n",
       "      <th>is_tv_subscriber</th>\n",
       "      <th>is_movie_package_subscriber</th>\n",
       "      <th>subscription_age</th>\n",
       "      <th>bill_avg</th>\n",
       "      <th>reamining_contract</th>\n",
       "      <th>service_failure_count</th>\n",
       "      <th>download_avg</th>\n",
       "      <th>upload_avg</th>\n",
       "      <th>download_over_limit</th>\n",
       "      <th>churn</th>\n",
       "    </tr>\n",
       "  </thead>\n",
       "  <tbody>\n",
       "    <tr>\n",
       "      <th>0</th>\n",
       "      <td>15</td>\n",
       "      <td>1</td>\n",
       "      <td>0</td>\n",
       "      <td>11.95</td>\n",
       "      <td>25</td>\n",
       "      <td>0.14</td>\n",
       "      <td>0</td>\n",
       "      <td>8.4</td>\n",
       "      <td>2.3</td>\n",
       "      <td>0</td>\n",
       "      <td>0</td>\n",
       "    </tr>\n",
       "    <tr>\n",
       "      <th>1</th>\n",
       "      <td>18</td>\n",
       "      <td>0</td>\n",
       "      <td>0</td>\n",
       "      <td>8.22</td>\n",
       "      <td>0</td>\n",
       "      <td>NaN</td>\n",
       "      <td>0</td>\n",
       "      <td>0.0</td>\n",
       "      <td>0.0</td>\n",
       "      <td>0</td>\n",
       "      <td>1</td>\n",
       "    </tr>\n",
       "    <tr>\n",
       "      <th>2</th>\n",
       "      <td>23</td>\n",
       "      <td>1</td>\n",
       "      <td>0</td>\n",
       "      <td>8.91</td>\n",
       "      <td>16</td>\n",
       "      <td>0.00</td>\n",
       "      <td>0</td>\n",
       "      <td>13.7</td>\n",
       "      <td>0.9</td>\n",
       "      <td>0</td>\n",
       "      <td>1</td>\n",
       "    </tr>\n",
       "    <tr>\n",
       "      <th>3</th>\n",
       "      <td>27</td>\n",
       "      <td>0</td>\n",
       "      <td>0</td>\n",
       "      <td>6.87</td>\n",
       "      <td>21</td>\n",
       "      <td>NaN</td>\n",
       "      <td>1</td>\n",
       "      <td>0.0</td>\n",
       "      <td>0.0</td>\n",
       "      <td>0</td>\n",
       "      <td>1</td>\n",
       "    </tr>\n",
       "    <tr>\n",
       "      <th>4</th>\n",
       "      <td>34</td>\n",
       "      <td>0</td>\n",
       "      <td>0</td>\n",
       "      <td>6.39</td>\n",
       "      <td>0</td>\n",
       "      <td>NaN</td>\n",
       "      <td>0</td>\n",
       "      <td>0.0</td>\n",
       "      <td>0.0</td>\n",
       "      <td>0</td>\n",
       "      <td>1</td>\n",
       "    </tr>\n",
       "  </tbody>\n",
       "</table>\n",
       "</div>\n",
       "    <div class=\"colab-df-buttons\">\n",
       "\n",
       "  <div class=\"colab-df-container\">\n",
       "    <button class=\"colab-df-convert\" onclick=\"convertToInteractive('df-6330b0c3-3673-4052-8424-38244add1d08')\"\n",
       "            title=\"Convert this dataframe to an interactive table.\"\n",
       "            style=\"display:none;\">\n",
       "\n",
       "  <svg xmlns=\"http://www.w3.org/2000/svg\" height=\"24px\" viewBox=\"0 -960 960 960\">\n",
       "    <path d=\"M120-120v-720h720v720H120Zm60-500h600v-160H180v160Zm220 220h160v-160H400v160Zm0 220h160v-160H400v160ZM180-400h160v-160H180v160Zm440 0h160v-160H620v160ZM180-180h160v-160H180v160Zm440 0h160v-160H620v160Z\"/>\n",
       "  </svg>\n",
       "    </button>\n",
       "\n",
       "  <style>\n",
       "    .colab-df-container {\n",
       "      display:flex;\n",
       "      gap: 12px;\n",
       "    }\n",
       "\n",
       "    .colab-df-convert {\n",
       "      background-color: #E8F0FE;\n",
       "      border: none;\n",
       "      border-radius: 50%;\n",
       "      cursor: pointer;\n",
       "      display: none;\n",
       "      fill: #1967D2;\n",
       "      height: 32px;\n",
       "      padding: 0 0 0 0;\n",
       "      width: 32px;\n",
       "    }\n",
       "\n",
       "    .colab-df-convert:hover {\n",
       "      background-color: #E2EBFA;\n",
       "      box-shadow: 0px 1px 2px rgba(60, 64, 67, 0.3), 0px 1px 3px 1px rgba(60, 64, 67, 0.15);\n",
       "      fill: #174EA6;\n",
       "    }\n",
       "\n",
       "    .colab-df-buttons div {\n",
       "      margin-bottom: 4px;\n",
       "    }\n",
       "\n",
       "    [theme=dark] .colab-df-convert {\n",
       "      background-color: #3B4455;\n",
       "      fill: #D2E3FC;\n",
       "    }\n",
       "\n",
       "    [theme=dark] .colab-df-convert:hover {\n",
       "      background-color: #434B5C;\n",
       "      box-shadow: 0px 1px 3px 1px rgba(0, 0, 0, 0.15);\n",
       "      filter: drop-shadow(0px 1px 2px rgba(0, 0, 0, 0.3));\n",
       "      fill: #FFFFFF;\n",
       "    }\n",
       "  </style>\n",
       "\n",
       "    <script>\n",
       "      const buttonEl =\n",
       "        document.querySelector('#df-6330b0c3-3673-4052-8424-38244add1d08 button.colab-df-convert');\n",
       "      buttonEl.style.display =\n",
       "        google.colab.kernel.accessAllowed ? 'block' : 'none';\n",
       "\n",
       "      async function convertToInteractive(key) {\n",
       "        const element = document.querySelector('#df-6330b0c3-3673-4052-8424-38244add1d08');\n",
       "        const dataTable =\n",
       "          await google.colab.kernel.invokeFunction('convertToInteractive',\n",
       "                                                    [key], {});\n",
       "        if (!dataTable) return;\n",
       "\n",
       "        const docLinkHtml = 'Like what you see? Visit the ' +\n",
       "          '<a target=\"_blank\" href=https://colab.research.google.com/notebooks/data_table.ipynb>data table notebook</a>'\n",
       "          + ' to learn more about interactive tables.';\n",
       "        element.innerHTML = '';\n",
       "        dataTable['output_type'] = 'display_data';\n",
       "        await google.colab.output.renderOutput(dataTable, element);\n",
       "        const docLink = document.createElement('div');\n",
       "        docLink.innerHTML = docLinkHtml;\n",
       "        element.appendChild(docLink);\n",
       "      }\n",
       "    </script>\n",
       "  </div>\n",
       "\n",
       "\n",
       "    <div id=\"df-58b10f7f-1f20-46d5-9abf-37e0640eb9f0\">\n",
       "      <button class=\"colab-df-quickchart\" onclick=\"quickchart('df-58b10f7f-1f20-46d5-9abf-37e0640eb9f0')\"\n",
       "                title=\"Suggest charts\"\n",
       "                style=\"display:none;\">\n",
       "\n",
       "<svg xmlns=\"http://www.w3.org/2000/svg\" height=\"24px\"viewBox=\"0 0 24 24\"\n",
       "     width=\"24px\">\n",
       "    <g>\n",
       "        <path d=\"M19 3H5c-1.1 0-2 .9-2 2v14c0 1.1.9 2 2 2h14c1.1 0 2-.9 2-2V5c0-1.1-.9-2-2-2zM9 17H7v-7h2v7zm4 0h-2V7h2v10zm4 0h-2v-4h2v4z\"/>\n",
       "    </g>\n",
       "</svg>\n",
       "      </button>\n",
       "\n",
       "<style>\n",
       "  .colab-df-quickchart {\n",
       "      --bg-color: #E8F0FE;\n",
       "      --fill-color: #1967D2;\n",
       "      --hover-bg-color: #E2EBFA;\n",
       "      --hover-fill-color: #174EA6;\n",
       "      --disabled-fill-color: #AAA;\n",
       "      --disabled-bg-color: #DDD;\n",
       "  }\n",
       "\n",
       "  [theme=dark] .colab-df-quickchart {\n",
       "      --bg-color: #3B4455;\n",
       "      --fill-color: #D2E3FC;\n",
       "      --hover-bg-color: #434B5C;\n",
       "      --hover-fill-color: #FFFFFF;\n",
       "      --disabled-bg-color: #3B4455;\n",
       "      --disabled-fill-color: #666;\n",
       "  }\n",
       "\n",
       "  .colab-df-quickchart {\n",
       "    background-color: var(--bg-color);\n",
       "    border: none;\n",
       "    border-radius: 50%;\n",
       "    cursor: pointer;\n",
       "    display: none;\n",
       "    fill: var(--fill-color);\n",
       "    height: 32px;\n",
       "    padding: 0;\n",
       "    width: 32px;\n",
       "  }\n",
       "\n",
       "  .colab-df-quickchart:hover {\n",
       "    background-color: var(--hover-bg-color);\n",
       "    box-shadow: 0 1px 2px rgba(60, 64, 67, 0.3), 0 1px 3px 1px rgba(60, 64, 67, 0.15);\n",
       "    fill: var(--button-hover-fill-color);\n",
       "  }\n",
       "\n",
       "  .colab-df-quickchart-complete:disabled,\n",
       "  .colab-df-quickchart-complete:disabled:hover {\n",
       "    background-color: var(--disabled-bg-color);\n",
       "    fill: var(--disabled-fill-color);\n",
       "    box-shadow: none;\n",
       "  }\n",
       "\n",
       "  .colab-df-spinner {\n",
       "    border: 2px solid var(--fill-color);\n",
       "    border-color: transparent;\n",
       "    border-bottom-color: var(--fill-color);\n",
       "    animation:\n",
       "      spin 1s steps(1) infinite;\n",
       "  }\n",
       "\n",
       "  @keyframes spin {\n",
       "    0% {\n",
       "      border-color: transparent;\n",
       "      border-bottom-color: var(--fill-color);\n",
       "      border-left-color: var(--fill-color);\n",
       "    }\n",
       "    20% {\n",
       "      border-color: transparent;\n",
       "      border-left-color: var(--fill-color);\n",
       "      border-top-color: var(--fill-color);\n",
       "    }\n",
       "    30% {\n",
       "      border-color: transparent;\n",
       "      border-left-color: var(--fill-color);\n",
       "      border-top-color: var(--fill-color);\n",
       "      border-right-color: var(--fill-color);\n",
       "    }\n",
       "    40% {\n",
       "      border-color: transparent;\n",
       "      border-right-color: var(--fill-color);\n",
       "      border-top-color: var(--fill-color);\n",
       "    }\n",
       "    60% {\n",
       "      border-color: transparent;\n",
       "      border-right-color: var(--fill-color);\n",
       "    }\n",
       "    80% {\n",
       "      border-color: transparent;\n",
       "      border-right-color: var(--fill-color);\n",
       "      border-bottom-color: var(--fill-color);\n",
       "    }\n",
       "    90% {\n",
       "      border-color: transparent;\n",
       "      border-bottom-color: var(--fill-color);\n",
       "    }\n",
       "  }\n",
       "</style>\n",
       "\n",
       "      <script>\n",
       "        async function quickchart(key) {\n",
       "          const quickchartButtonEl =\n",
       "            document.querySelector('#' + key + ' button');\n",
       "          quickchartButtonEl.disabled = true;  // To prevent multiple clicks.\n",
       "          quickchartButtonEl.classList.add('colab-df-spinner');\n",
       "          try {\n",
       "            const charts = await google.colab.kernel.invokeFunction(\n",
       "                'suggestCharts', [key], {});\n",
       "          } catch (error) {\n",
       "            console.error('Error during call to suggestCharts:', error);\n",
       "          }\n",
       "          quickchartButtonEl.classList.remove('colab-df-spinner');\n",
       "          quickchartButtonEl.classList.add('colab-df-quickchart-complete');\n",
       "        }\n",
       "        (() => {\n",
       "          let quickchartButtonEl =\n",
       "            document.querySelector('#df-58b10f7f-1f20-46d5-9abf-37e0640eb9f0 button');\n",
       "          quickchartButtonEl.style.display =\n",
       "            google.colab.kernel.accessAllowed ? 'block' : 'none';\n",
       "        })();\n",
       "      </script>\n",
       "    </div>\n",
       "    </div>\n",
       "  </div>\n"
      ],
      "text/plain": [
       "   id  is_tv_subscriber  is_movie_package_subscriber  subscription_age  \\\n",
       "0  15                 1                            0             11.95   \n",
       "1  18                 0                            0              8.22   \n",
       "2  23                 1                            0              8.91   \n",
       "3  27                 0                            0              6.87   \n",
       "4  34                 0                            0              6.39   \n",
       "\n",
       "   bill_avg  reamining_contract  service_failure_count  download_avg  \\\n",
       "0        25                0.14                      0           8.4   \n",
       "1         0                 NaN                      0           0.0   \n",
       "2        16                0.00                      0          13.7   \n",
       "3        21                 NaN                      1           0.0   \n",
       "4         0                 NaN                      0           0.0   \n",
       "\n",
       "   upload_avg  download_over_limit  churn  \n",
       "0         2.3                    0      0  \n",
       "1         0.0                    0      1  \n",
       "2         0.9                    0      1  \n",
       "3         0.0                    0      1  \n",
       "4         0.0                    0      1  "
      ]
     },
     "execution_count": 3,
     "metadata": {},
     "output_type": "execute_result"
    }
   ],
   "source": [
    "df = pd.read_csv(dataset_url)\n",
    "df.head()"
   ]
  },
  {
   "cell_type": "code",
   "execution_count": 4,
   "metadata": {
    "colab": {
     "base_uri": "https://localhost:8080/"
    },
    "execution": {
     "iopub.execute_input": "2025-07-22T18:45:25.404448Z",
     "iopub.status.busy": "2025-07-22T18:45:25.403800Z",
     "iopub.status.idle": "2025-07-22T18:45:25.439127Z",
     "shell.execute_reply": "2025-07-22T18:45:25.438235Z",
     "shell.execute_reply.started": "2025-07-22T18:45:25.404419Z"
    },
    "id": "s5cx0JdEgIZM",
    "outputId": "3fb5d8c8-9e5f-4a55-df7f-3f0ec463c000"
   },
   "outputs": [
    {
     "name": "stdout",
     "output_type": "stream",
     "text": [
      "<class 'pandas.core.frame.DataFrame'>\n",
      "RangeIndex: 72274 entries, 0 to 72273\n",
      "Data columns (total 11 columns):\n",
      " #   Column                       Non-Null Count  Dtype  \n",
      "---  ------                       --------------  -----  \n",
      " 0   id                           72274 non-null  int64  \n",
      " 1   is_tv_subscriber             72274 non-null  int64  \n",
      " 2   is_movie_package_subscriber  72274 non-null  int64  \n",
      " 3   subscription_age             72274 non-null  float64\n",
      " 4   bill_avg                     72274 non-null  int64  \n",
      " 5   reamining_contract           50702 non-null  float64\n",
      " 6   service_failure_count        72274 non-null  int64  \n",
      " 7   download_avg                 71893 non-null  float64\n",
      " 8   upload_avg                   71893 non-null  float64\n",
      " 9   download_over_limit          72274 non-null  int64  \n",
      " 10  churn                        72274 non-null  int64  \n",
      "dtypes: float64(4), int64(7)\n",
      "memory usage: 6.1 MB\n"
     ]
    }
   ],
   "source": [
    "# перевіряємо загальну інформацію\n",
    "df.info()"
   ]
  },
  {
   "cell_type": "code",
   "execution_count": 5,
   "metadata": {
    "colab": {
     "base_uri": "https://localhost:8080/",
     "height": 320
    },
    "execution": {
     "iopub.execute_input": "2025-07-22T18:45:25.440220Z",
     "iopub.status.busy": "2025-07-22T18:45:25.439947Z",
     "iopub.status.idle": "2025-07-22T18:45:25.516140Z",
     "shell.execute_reply": "2025-07-22T18:45:25.515089Z",
     "shell.execute_reply.started": "2025-07-22T18:45:25.440200Z"
    },
    "id": "P-tiY0jzgtWj",
    "outputId": "52fb858c-375f-4ed3-cff9-fa538f31f8d6"
   },
   "outputs": [
    {
     "data": {
      "application/vnd.google.colaboratory.intrinsic+json": {
       "summary": "{\n  \"name\": \"df\",\n  \"rows\": 8,\n  \"fields\": [\n    {\n      \"column\": \"id\",\n      \"properties\": {\n        \"dtype\": \"number\",\n        \"std\": 579745.3164460949,\n        \"min\": 15.0,\n        \"max\": 1689744.0,\n        \"num_unique_values\": 8,\n        \"samples\": [\n          846318.2434623793,\n          847784.0,\n          72274.0\n        ],\n        \"semantic_type\": \"\",\n        \"description\": \"\"\n      }\n    },\n    {\n      \"column\": \"is_tv_subscriber\",\n      \"properties\": {\n        \"dtype\": \"number\",\n        \"std\": 25552.454945578927,\n        \"min\": 0.0,\n        \"max\": 72274.0,\n        \"num_unique_values\": 5,\n        \"samples\": [\n          0.8152585992196364,\n          1.0,\n          0.388090323958031\n        ],\n        \"semantic_type\": \"\",\n        \"description\": \"\"\n      }\n    },\n    {\n      \"column\": \"is_movie_package_subscriber\",\n      \"properties\": {\n        \"dtype\": \"number\",\n        \"std\": 25552.576005800976,\n        \"min\": 0.0,\n        \"max\": 72274.0,\n        \"num_unique_values\": 5,\n        \"samples\": [\n          0.33462932728228684,\n          1.0,\n          0.47186398603855195\n        ],\n        \"semantic_type\": \"\",\n        \"description\": \"\"\n      }\n    },\n    {\n      \"column\": \"subscription_age\",\n      \"properties\": {\n        \"dtype\": \"number\",\n        \"std\": 25551.53239322848,\n        \"min\": -0.02,\n        \"max\": 72274.0,\n        \"num_unique_values\": 8,\n        \"samples\": [\n          2.4500511940670227,\n          1.98,\n          72274.0\n        ],\n        \"semantic_type\": \"\",\n        \"description\": \"\"\n      }\n    },\n    {\n      \"column\": \"bill_avg\",\n      \"properties\": {\n        \"dtype\": \"number\",\n        \"std\": 25528.228753633175,\n        \"min\": 0.0,\n        \"max\": 72274.0,\n        \"num_unique_values\": 8,\n        \"samples\": [\n          18.94248277388826,\n          19.0,\n          72274.0\n        ],\n        \"semantic_type\": \"\",\n        \"description\": \"\"\n      }\n    },\n    {\n      \"column\": \"reamining_contract\",\n      \"properties\": {\n        \"dtype\": \"number\",\n        \"std\": 17925.550222939502,\n        \"min\": 0.0,\n        \"max\": 50702.0,\n        \"num_unique_values\": 7,\n        \"samples\": [\n          50702.0,\n          0.7160392094986392,\n          1.31\n        ],\n        \"semantic_type\": \"\",\n        \"description\": \"\"\n      }\n    },\n    {\n      \"column\": \"service_failure_count\",\n      \"properties\": {\n        \"dtype\": \"number\",\n        \"std\": 25551.70386035566,\n        \"min\": 0.0,\n        \"max\": 72274.0,\n        \"num_unique_values\": 5,\n        \"samples\": [\n          0.2742341644298088,\n          19.0,\n          0.8166209461165489\n        ],\n        \"semantic_type\": \"\",\n        \"description\": \"\"\n      }\n    },\n    {\n      \"column\": \"download_avg\",\n      \"properties\": {\n        \"dtype\": \"number\",\n        \"std\": 25231.44204954188,\n        \"min\": 0.0,\n        \"max\": 71893.0,\n        \"num_unique_values\": 8,\n        \"samples\": [\n          43.689911396102545,\n          27.8,\n          71893.0\n        ],\n        \"semantic_type\": \"\",\n        \"description\": \"\"\n      }\n    },\n    {\n      \"column\": \"upload_avg\",\n      \"properties\": {\n        \"dtype\": \"number\",\n        \"std\": 25394.52520484576,\n        \"min\": 0.0,\n        \"max\": 71893.0,\n        \"num_unique_values\": 8,\n        \"samples\": [\n          4.192075723644861,\n          2.1,\n          71893.0\n        ],\n        \"semantic_type\": \"\",\n        \"description\": \"\"\n      }\n    },\n    {\n      \"column\": \"download_over_limit\",\n      \"properties\": {\n        \"dtype\": \"number\",\n        \"std\": 25552.303462986023,\n        \"min\": 0.0,\n        \"max\": 72274.0,\n        \"num_unique_values\": 5,\n        \"samples\": [\n          0.20761269612862163,\n          7.0,\n          0.9971232228802416\n        ],\n        \"semantic_type\": \"\",\n        \"description\": \"\"\n      }\n    },\n    {\n      \"column\": \"churn\",\n      \"properties\": {\n        \"dtype\": \"number\",\n        \"std\": 25552.513138381906,\n        \"min\": 0.0,\n        \"max\": 72274.0,\n        \"num_unique_values\": 5,\n        \"samples\": [\n          0.5541411849351081,\n          1.0,\n          0.4970635277726941\n        ],\n        \"semantic_type\": \"\",\n        \"description\": \"\"\n      }\n    }\n  ]\n}",
       "type": "dataframe"
      },
      "text/html": [
       "\n",
       "  <div id=\"df-75547953-6c91-4a21-9a35-c18f52a46d4a\" class=\"colab-df-container\">\n",
       "    <div>\n",
       "<style scoped>\n",
       "    .dataframe tbody tr th:only-of-type {\n",
       "        vertical-align: middle;\n",
       "    }\n",
       "\n",
       "    .dataframe tbody tr th {\n",
       "        vertical-align: top;\n",
       "    }\n",
       "\n",
       "    .dataframe thead th {\n",
       "        text-align: right;\n",
       "    }\n",
       "</style>\n",
       "<table border=\"1\" class=\"dataframe\">\n",
       "  <thead>\n",
       "    <tr style=\"text-align: right;\">\n",
       "      <th></th>\n",
       "      <th>id</th>\n",
       "      <th>is_tv_subscriber</th>\n",
       "      <th>is_movie_package_subscriber</th>\n",
       "      <th>subscription_age</th>\n",
       "      <th>bill_avg</th>\n",
       "      <th>reamining_contract</th>\n",
       "      <th>service_failure_count</th>\n",
       "      <th>download_avg</th>\n",
       "      <th>upload_avg</th>\n",
       "      <th>download_over_limit</th>\n",
       "      <th>churn</th>\n",
       "    </tr>\n",
       "  </thead>\n",
       "  <tbody>\n",
       "    <tr>\n",
       "      <th>count</th>\n",
       "      <td>7.227400e+04</td>\n",
       "      <td>72274.000000</td>\n",
       "      <td>72274.000000</td>\n",
       "      <td>72274.000000</td>\n",
       "      <td>72274.000000</td>\n",
       "      <td>50702.000000</td>\n",
       "      <td>72274.000000</td>\n",
       "      <td>71893.000000</td>\n",
       "      <td>71893.000000</td>\n",
       "      <td>72274.000000</td>\n",
       "      <td>72274.000000</td>\n",
       "    </tr>\n",
       "    <tr>\n",
       "      <th>mean</th>\n",
       "      <td>8.463182e+05</td>\n",
       "      <td>0.815259</td>\n",
       "      <td>0.334629</td>\n",
       "      <td>2.450051</td>\n",
       "      <td>18.942483</td>\n",
       "      <td>0.716039</td>\n",
       "      <td>0.274234</td>\n",
       "      <td>43.689911</td>\n",
       "      <td>4.192076</td>\n",
       "      <td>0.207613</td>\n",
       "      <td>0.554141</td>\n",
       "    </tr>\n",
       "    <tr>\n",
       "      <th>std</th>\n",
       "      <td>4.891022e+05</td>\n",
       "      <td>0.388090</td>\n",
       "      <td>0.471864</td>\n",
       "      <td>2.034990</td>\n",
       "      <td>13.215386</td>\n",
       "      <td>0.697102</td>\n",
       "      <td>0.816621</td>\n",
       "      <td>63.405963</td>\n",
       "      <td>9.818896</td>\n",
       "      <td>0.997123</td>\n",
       "      <td>0.497064</td>\n",
       "    </tr>\n",
       "    <tr>\n",
       "      <th>min</th>\n",
       "      <td>1.500000e+01</td>\n",
       "      <td>0.000000</td>\n",
       "      <td>0.000000</td>\n",
       "      <td>-0.020000</td>\n",
       "      <td>0.000000</td>\n",
       "      <td>0.000000</td>\n",
       "      <td>0.000000</td>\n",
       "      <td>0.000000</td>\n",
       "      <td>0.000000</td>\n",
       "      <td>0.000000</td>\n",
       "      <td>0.000000</td>\n",
       "    </tr>\n",
       "    <tr>\n",
       "      <th>25%</th>\n",
       "      <td>4.222165e+05</td>\n",
       "      <td>1.000000</td>\n",
       "      <td>0.000000</td>\n",
       "      <td>0.930000</td>\n",
       "      <td>13.000000</td>\n",
       "      <td>0.000000</td>\n",
       "      <td>0.000000</td>\n",
       "      <td>6.700000</td>\n",
       "      <td>0.500000</td>\n",
       "      <td>0.000000</td>\n",
       "      <td>0.000000</td>\n",
       "    </tr>\n",
       "    <tr>\n",
       "      <th>50%</th>\n",
       "      <td>8.477840e+05</td>\n",
       "      <td>1.000000</td>\n",
       "      <td>0.000000</td>\n",
       "      <td>1.980000</td>\n",
       "      <td>19.000000</td>\n",
       "      <td>0.570000</td>\n",
       "      <td>0.000000</td>\n",
       "      <td>27.800000</td>\n",
       "      <td>2.100000</td>\n",
       "      <td>0.000000</td>\n",
       "      <td>1.000000</td>\n",
       "    </tr>\n",
       "    <tr>\n",
       "      <th>75%</th>\n",
       "      <td>1.269562e+06</td>\n",
       "      <td>1.000000</td>\n",
       "      <td>1.000000</td>\n",
       "      <td>3.300000</td>\n",
       "      <td>22.000000</td>\n",
       "      <td>1.310000</td>\n",
       "      <td>0.000000</td>\n",
       "      <td>60.500000</td>\n",
       "      <td>4.800000</td>\n",
       "      <td>0.000000</td>\n",
       "      <td>1.000000</td>\n",
       "    </tr>\n",
       "    <tr>\n",
       "      <th>max</th>\n",
       "      <td>1.689744e+06</td>\n",
       "      <td>1.000000</td>\n",
       "      <td>1.000000</td>\n",
       "      <td>12.800000</td>\n",
       "      <td>406.000000</td>\n",
       "      <td>2.920000</td>\n",
       "      <td>19.000000</td>\n",
       "      <td>4415.200000</td>\n",
       "      <td>453.300000</td>\n",
       "      <td>7.000000</td>\n",
       "      <td>1.000000</td>\n",
       "    </tr>\n",
       "  </tbody>\n",
       "</table>\n",
       "</div>\n",
       "    <div class=\"colab-df-buttons\">\n",
       "\n",
       "  <div class=\"colab-df-container\">\n",
       "    <button class=\"colab-df-convert\" onclick=\"convertToInteractive('df-75547953-6c91-4a21-9a35-c18f52a46d4a')\"\n",
       "            title=\"Convert this dataframe to an interactive table.\"\n",
       "            style=\"display:none;\">\n",
       "\n",
       "  <svg xmlns=\"http://www.w3.org/2000/svg\" height=\"24px\" viewBox=\"0 -960 960 960\">\n",
       "    <path d=\"M120-120v-720h720v720H120Zm60-500h600v-160H180v160Zm220 220h160v-160H400v160Zm0 220h160v-160H400v160ZM180-400h160v-160H180v160Zm440 0h160v-160H620v160ZM180-180h160v-160H180v160Zm440 0h160v-160H620v160Z\"/>\n",
       "  </svg>\n",
       "    </button>\n",
       "\n",
       "  <style>\n",
       "    .colab-df-container {\n",
       "      display:flex;\n",
       "      gap: 12px;\n",
       "    }\n",
       "\n",
       "    .colab-df-convert {\n",
       "      background-color: #E8F0FE;\n",
       "      border: none;\n",
       "      border-radius: 50%;\n",
       "      cursor: pointer;\n",
       "      display: none;\n",
       "      fill: #1967D2;\n",
       "      height: 32px;\n",
       "      padding: 0 0 0 0;\n",
       "      width: 32px;\n",
       "    }\n",
       "\n",
       "    .colab-df-convert:hover {\n",
       "      background-color: #E2EBFA;\n",
       "      box-shadow: 0px 1px 2px rgba(60, 64, 67, 0.3), 0px 1px 3px 1px rgba(60, 64, 67, 0.15);\n",
       "      fill: #174EA6;\n",
       "    }\n",
       "\n",
       "    .colab-df-buttons div {\n",
       "      margin-bottom: 4px;\n",
       "    }\n",
       "\n",
       "    [theme=dark] .colab-df-convert {\n",
       "      background-color: #3B4455;\n",
       "      fill: #D2E3FC;\n",
       "    }\n",
       "\n",
       "    [theme=dark] .colab-df-convert:hover {\n",
       "      background-color: #434B5C;\n",
       "      box-shadow: 0px 1px 3px 1px rgba(0, 0, 0, 0.15);\n",
       "      filter: drop-shadow(0px 1px 2px rgba(0, 0, 0, 0.3));\n",
       "      fill: #FFFFFF;\n",
       "    }\n",
       "  </style>\n",
       "\n",
       "    <script>\n",
       "      const buttonEl =\n",
       "        document.querySelector('#df-75547953-6c91-4a21-9a35-c18f52a46d4a button.colab-df-convert');\n",
       "      buttonEl.style.display =\n",
       "        google.colab.kernel.accessAllowed ? 'block' : 'none';\n",
       "\n",
       "      async function convertToInteractive(key) {\n",
       "        const element = document.querySelector('#df-75547953-6c91-4a21-9a35-c18f52a46d4a');\n",
       "        const dataTable =\n",
       "          await google.colab.kernel.invokeFunction('convertToInteractive',\n",
       "                                                    [key], {});\n",
       "        if (!dataTable) return;\n",
       "\n",
       "        const docLinkHtml = 'Like what you see? Visit the ' +\n",
       "          '<a target=\"_blank\" href=https://colab.research.google.com/notebooks/data_table.ipynb>data table notebook</a>'\n",
       "          + ' to learn more about interactive tables.';\n",
       "        element.innerHTML = '';\n",
       "        dataTable['output_type'] = 'display_data';\n",
       "        await google.colab.output.renderOutput(dataTable, element);\n",
       "        const docLink = document.createElement('div');\n",
       "        docLink.innerHTML = docLinkHtml;\n",
       "        element.appendChild(docLink);\n",
       "      }\n",
       "    </script>\n",
       "  </div>\n",
       "\n",
       "\n",
       "    <div id=\"df-91c0a7df-cb92-47bb-a895-39873f977e50\">\n",
       "      <button class=\"colab-df-quickchart\" onclick=\"quickchart('df-91c0a7df-cb92-47bb-a895-39873f977e50')\"\n",
       "                title=\"Suggest charts\"\n",
       "                style=\"display:none;\">\n",
       "\n",
       "<svg xmlns=\"http://www.w3.org/2000/svg\" height=\"24px\"viewBox=\"0 0 24 24\"\n",
       "     width=\"24px\">\n",
       "    <g>\n",
       "        <path d=\"M19 3H5c-1.1 0-2 .9-2 2v14c0 1.1.9 2 2 2h14c1.1 0 2-.9 2-2V5c0-1.1-.9-2-2-2zM9 17H7v-7h2v7zm4 0h-2V7h2v10zm4 0h-2v-4h2v4z\"/>\n",
       "    </g>\n",
       "</svg>\n",
       "      </button>\n",
       "\n",
       "<style>\n",
       "  .colab-df-quickchart {\n",
       "      --bg-color: #E8F0FE;\n",
       "      --fill-color: #1967D2;\n",
       "      --hover-bg-color: #E2EBFA;\n",
       "      --hover-fill-color: #174EA6;\n",
       "      --disabled-fill-color: #AAA;\n",
       "      --disabled-bg-color: #DDD;\n",
       "  }\n",
       "\n",
       "  [theme=dark] .colab-df-quickchart {\n",
       "      --bg-color: #3B4455;\n",
       "      --fill-color: #D2E3FC;\n",
       "      --hover-bg-color: #434B5C;\n",
       "      --hover-fill-color: #FFFFFF;\n",
       "      --disabled-bg-color: #3B4455;\n",
       "      --disabled-fill-color: #666;\n",
       "  }\n",
       "\n",
       "  .colab-df-quickchart {\n",
       "    background-color: var(--bg-color);\n",
       "    border: none;\n",
       "    border-radius: 50%;\n",
       "    cursor: pointer;\n",
       "    display: none;\n",
       "    fill: var(--fill-color);\n",
       "    height: 32px;\n",
       "    padding: 0;\n",
       "    width: 32px;\n",
       "  }\n",
       "\n",
       "  .colab-df-quickchart:hover {\n",
       "    background-color: var(--hover-bg-color);\n",
       "    box-shadow: 0 1px 2px rgba(60, 64, 67, 0.3), 0 1px 3px 1px rgba(60, 64, 67, 0.15);\n",
       "    fill: var(--button-hover-fill-color);\n",
       "  }\n",
       "\n",
       "  .colab-df-quickchart-complete:disabled,\n",
       "  .colab-df-quickchart-complete:disabled:hover {\n",
       "    background-color: var(--disabled-bg-color);\n",
       "    fill: var(--disabled-fill-color);\n",
       "    box-shadow: none;\n",
       "  }\n",
       "\n",
       "  .colab-df-spinner {\n",
       "    border: 2px solid var(--fill-color);\n",
       "    border-color: transparent;\n",
       "    border-bottom-color: var(--fill-color);\n",
       "    animation:\n",
       "      spin 1s steps(1) infinite;\n",
       "  }\n",
       "\n",
       "  @keyframes spin {\n",
       "    0% {\n",
       "      border-color: transparent;\n",
       "      border-bottom-color: var(--fill-color);\n",
       "      border-left-color: var(--fill-color);\n",
       "    }\n",
       "    20% {\n",
       "      border-color: transparent;\n",
       "      border-left-color: var(--fill-color);\n",
       "      border-top-color: var(--fill-color);\n",
       "    }\n",
       "    30% {\n",
       "      border-color: transparent;\n",
       "      border-left-color: var(--fill-color);\n",
       "      border-top-color: var(--fill-color);\n",
       "      border-right-color: var(--fill-color);\n",
       "    }\n",
       "    40% {\n",
       "      border-color: transparent;\n",
       "      border-right-color: var(--fill-color);\n",
       "      border-top-color: var(--fill-color);\n",
       "    }\n",
       "    60% {\n",
       "      border-color: transparent;\n",
       "      border-right-color: var(--fill-color);\n",
       "    }\n",
       "    80% {\n",
       "      border-color: transparent;\n",
       "      border-right-color: var(--fill-color);\n",
       "      border-bottom-color: var(--fill-color);\n",
       "    }\n",
       "    90% {\n",
       "      border-color: transparent;\n",
       "      border-bottom-color: var(--fill-color);\n",
       "    }\n",
       "  }\n",
       "</style>\n",
       "\n",
       "      <script>\n",
       "        async function quickchart(key) {\n",
       "          const quickchartButtonEl =\n",
       "            document.querySelector('#' + key + ' button');\n",
       "          quickchartButtonEl.disabled = true;  // To prevent multiple clicks.\n",
       "          quickchartButtonEl.classList.add('colab-df-spinner');\n",
       "          try {\n",
       "            const charts = await google.colab.kernel.invokeFunction(\n",
       "                'suggestCharts', [key], {});\n",
       "          } catch (error) {\n",
       "            console.error('Error during call to suggestCharts:', error);\n",
       "          }\n",
       "          quickchartButtonEl.classList.remove('colab-df-spinner');\n",
       "          quickchartButtonEl.classList.add('colab-df-quickchart-complete');\n",
       "        }\n",
       "        (() => {\n",
       "          let quickchartButtonEl =\n",
       "            document.querySelector('#df-91c0a7df-cb92-47bb-a895-39873f977e50 button');\n",
       "          quickchartButtonEl.style.display =\n",
       "            google.colab.kernel.accessAllowed ? 'block' : 'none';\n",
       "        })();\n",
       "      </script>\n",
       "    </div>\n",
       "    </div>\n",
       "  </div>\n"
      ],
      "text/plain": [
       "                 id  is_tv_subscriber  is_movie_package_subscriber  \\\n",
       "count  7.227400e+04      72274.000000                 72274.000000   \n",
       "mean   8.463182e+05          0.815259                     0.334629   \n",
       "std    4.891022e+05          0.388090                     0.471864   \n",
       "min    1.500000e+01          0.000000                     0.000000   \n",
       "25%    4.222165e+05          1.000000                     0.000000   \n",
       "50%    8.477840e+05          1.000000                     0.000000   \n",
       "75%    1.269562e+06          1.000000                     1.000000   \n",
       "max    1.689744e+06          1.000000                     1.000000   \n",
       "\n",
       "       subscription_age      bill_avg  reamining_contract  \\\n",
       "count      72274.000000  72274.000000        50702.000000   \n",
       "mean           2.450051     18.942483            0.716039   \n",
       "std            2.034990     13.215386            0.697102   \n",
       "min           -0.020000      0.000000            0.000000   \n",
       "25%            0.930000     13.000000            0.000000   \n",
       "50%            1.980000     19.000000            0.570000   \n",
       "75%            3.300000     22.000000            1.310000   \n",
       "max           12.800000    406.000000            2.920000   \n",
       "\n",
       "       service_failure_count  download_avg    upload_avg  download_over_limit  \\\n",
       "count           72274.000000  71893.000000  71893.000000         72274.000000   \n",
       "mean                0.274234     43.689911      4.192076             0.207613   \n",
       "std                 0.816621     63.405963      9.818896             0.997123   \n",
       "min                 0.000000      0.000000      0.000000             0.000000   \n",
       "25%                 0.000000      6.700000      0.500000             0.000000   \n",
       "50%                 0.000000     27.800000      2.100000             0.000000   \n",
       "75%                 0.000000     60.500000      4.800000             0.000000   \n",
       "max                19.000000   4415.200000    453.300000             7.000000   \n",
       "\n",
       "              churn  \n",
       "count  72274.000000  \n",
       "mean       0.554141  \n",
       "std        0.497064  \n",
       "min        0.000000  \n",
       "25%        0.000000  \n",
       "50%        1.000000  \n",
       "75%        1.000000  \n",
       "max        1.000000  "
      ]
     },
     "execution_count": 5,
     "metadata": {},
     "output_type": "execute_result"
    }
   ],
   "source": [
    "# статистичний опис числових ознак\n",
    "df.describe()"
   ]
  },
  {
   "cell_type": "code",
   "execution_count": 6,
   "metadata": {
    "colab": {
     "base_uri": "https://localhost:8080/",
     "height": 429
    },
    "execution": {
     "iopub.execute_input": "2025-07-22T18:45:25.519824Z",
     "iopub.status.busy": "2025-07-22T18:45:25.519520Z",
     "iopub.status.idle": "2025-07-22T18:45:25.533840Z",
     "shell.execute_reply": "2025-07-22T18:45:25.532992Z",
     "shell.execute_reply.started": "2025-07-22T18:45:25.519801Z"
    },
    "id": "AN3cFdgJiPl7",
    "outputId": "01d10b12-8f20-48ac-81cc-c899a6b9d048"
   },
   "outputs": [
    {
     "data": {
      "text/html": [
       "<div>\n",
       "<style scoped>\n",
       "    .dataframe tbody tr th:only-of-type {\n",
       "        vertical-align: middle;\n",
       "    }\n",
       "\n",
       "    .dataframe tbody tr th {\n",
       "        vertical-align: top;\n",
       "    }\n",
       "\n",
       "    .dataframe thead th {\n",
       "        text-align: right;\n",
       "    }\n",
       "</style>\n",
       "<table border=\"1\" class=\"dataframe\">\n",
       "  <thead>\n",
       "    <tr style=\"text-align: right;\">\n",
       "      <th></th>\n",
       "      <th>0</th>\n",
       "    </tr>\n",
       "  </thead>\n",
       "  <tbody>\n",
       "    <tr>\n",
       "      <th>id</th>\n",
       "      <td>0</td>\n",
       "    </tr>\n",
       "    <tr>\n",
       "      <th>is_tv_subscriber</th>\n",
       "      <td>0</td>\n",
       "    </tr>\n",
       "    <tr>\n",
       "      <th>is_movie_package_subscriber</th>\n",
       "      <td>0</td>\n",
       "    </tr>\n",
       "    <tr>\n",
       "      <th>subscription_age</th>\n",
       "      <td>0</td>\n",
       "    </tr>\n",
       "    <tr>\n",
       "      <th>bill_avg</th>\n",
       "      <td>0</td>\n",
       "    </tr>\n",
       "    <tr>\n",
       "      <th>reamining_contract</th>\n",
       "      <td>21572</td>\n",
       "    </tr>\n",
       "    <tr>\n",
       "      <th>service_failure_count</th>\n",
       "      <td>0</td>\n",
       "    </tr>\n",
       "    <tr>\n",
       "      <th>download_avg</th>\n",
       "      <td>381</td>\n",
       "    </tr>\n",
       "    <tr>\n",
       "      <th>upload_avg</th>\n",
       "      <td>381</td>\n",
       "    </tr>\n",
       "    <tr>\n",
       "      <th>download_over_limit</th>\n",
       "      <td>0</td>\n",
       "    </tr>\n",
       "    <tr>\n",
       "      <th>churn</th>\n",
       "      <td>0</td>\n",
       "    </tr>\n",
       "  </tbody>\n",
       "</table>\n",
       "</div><br><label><b>dtype:</b> int64</label>"
      ],
      "text/plain": [
       "id                                 0\n",
       "is_tv_subscriber                   0\n",
       "is_movie_package_subscriber        0\n",
       "subscription_age                   0\n",
       "bill_avg                           0\n",
       "reamining_contract             21572\n",
       "service_failure_count              0\n",
       "download_avg                     381\n",
       "upload_avg                       381\n",
       "download_over_limit                0\n",
       "churn                              0\n",
       "dtype: int64"
      ]
     },
     "execution_count": 6,
     "metadata": {},
     "output_type": "execute_result"
    }
   ],
   "source": [
    "# перевірка пропусків\n",
    "df.isnull().sum()"
   ]
  },
  {
   "cell_type": "code",
   "execution_count": 7,
   "metadata": {
    "colab": {
     "base_uri": "https://localhost:8080/"
    },
    "execution": {
     "iopub.execute_input": "2025-07-22T18:45:25.535498Z",
     "iopub.status.busy": "2025-07-22T18:45:25.534886Z",
     "iopub.status.idle": "2025-07-22T18:45:25.580852Z",
     "shell.execute_reply": "2025-07-22T18:45:25.579885Z",
     "shell.execute_reply.started": "2025-07-22T18:45:25.535464Z"
    },
    "id": "z2MRXiBZibo1",
    "outputId": "a5749c3e-402d-40d3-9aec-8420bd1bb16f"
   },
   "outputs": [
    {
     "data": {
      "text/plain": [
       "np.int64(0)"
      ]
     },
     "execution_count": 7,
     "metadata": {},
     "output_type": "execute_result"
    }
   ],
   "source": [
    "# перевірка дублікатів\n",
    "df.duplicated().sum()"
   ]
  },
  {
   "cell_type": "code",
   "execution_count": 8,
   "metadata": {
    "colab": {
     "base_uri": "https://localhost:8080/",
     "height": 472
    },
    "execution": {
     "iopub.execute_input": "2025-07-22T18:45:25.582350Z",
     "iopub.status.busy": "2025-07-22T18:45:25.581864Z",
     "iopub.status.idle": "2025-07-22T18:45:25.886343Z",
     "shell.execute_reply": "2025-07-22T18:45:25.885346Z",
     "shell.execute_reply.started": "2025-07-22T18:45:25.582315Z"
    },
    "id": "nq0LQGWL8x6E",
    "outputId": "4722c1ac-7bfa-4e1a-d65f-a38cd1cbe7b3"
   },
   "outputs": [
    {
     "data": {
      "image/png": "[encoded data removed]",
      "text/plain": [
       "<Figure size 640x480 with 1 Axes>"
      ]
     },
     "metadata": {},
     "output_type": "display_data"
    }
   ],
   "source": [
    "# розподіленя цільової перемінної\n",
    "sns.countplot(data = df, x = 'churn')\n",
    "plt.title('Churn Distribution')\n",
    "plt.xlabel('Churn')\n",
    "plt.ylabel('Count')\n",
    "plt.show()"
   ]
  },
  {
   "cell_type": "code",
   "execution_count": 9,
   "metadata": {
    "colab": {
     "base_uri": "https://localhost:8080/",
     "height": 472
    },
    "execution": {
     "iopub.execute_input": "2025-07-22T18:45:25.887742Z",
     "iopub.status.busy": "2025-07-22T18:45:25.887428Z",
     "iopub.status.idle": "2025-07-22T18:45:26.178050Z",
     "shell.execute_reply": "2025-07-22T18:45:26.177031Z",
     "shell.execute_reply.started": "2025-07-22T18:45:25.887712Z"
    },
    "id": "UNlnl3Kb_UCY",
    "outputId": "48f63bb6-3325-4cf5-bf5e-b5e7fff1670c"
   },
   "outputs": [
    {
     "data": {
      "image/png": "[encoded data removed]",
      "text/plain": [
       "<Figure size 640x480 with 1 Axes>"
      ]
     },
     "metadata": {},
     "output_type": "display_data"
    }
   ],
   "source": [
    "# термін \"життя\" підписки\n",
    "df['subscription_age'].hist(bins=20)\n",
    "plt.title('Subscription Age Distribution')\n",
    "plt.xlabel('Age (month)')\n",
    "plt.ylabel('Number of users')\n",
    "plt.show()"
   ]
  },
  {
   "cell_type": "code",
   "execution_count": 10,
   "metadata": {
    "colab": {
     "base_uri": "https://localhost:8080/",
     "height": 472
    },
    "execution": {
     "iopub.execute_input": "2025-07-22T18:45:26.179478Z",
     "iopub.status.busy": "2025-07-22T18:45:26.179140Z",
     "iopub.status.idle": "2025-07-22T18:45:26.411308Z",
     "shell.execute_reply": "2025-07-22T18:45:26.410155Z",
     "shell.execute_reply.started": "2025-07-22T18:45:26.179450Z"
    },
    "id": "ZEk2yVwgAD78",
    "outputId": "a9e2b79d-9441-4221-b4d4-5cc8ae951ba7"
   },
   "outputs": [
    {
     "data": {
      "image/png": "[encoded data removed]",
      "text/plain": [
       "<Figure size 640x480 with 1 Axes>"
      ]
     },
     "metadata": {},
     "output_type": "display_data"
    }
   ],
   "source": [
    "# розподілення середньої швидкості завантаження\n",
    "df['download_avg'].hist(bins=30)\n",
    "plt.title('Download Average Distribution')\n",
    "plt.xlabel('Mbps')\n",
    "plt.ylabel('Counts')\n",
    "plt.show()"
   ]
  },
  {
   "cell_type": "code",
   "execution_count": 11,
   "metadata": {
    "colab": {
     "base_uri": "https://localhost:8080/",
     "height": 890
    },
    "execution": {
     "iopub.execute_input": "2025-07-22T18:45:26.412906Z",
     "iopub.status.busy": "2025-07-22T18:45:26.412545Z",
     "iopub.status.idle": "2025-07-22T18:45:27.065297Z",
     "shell.execute_reply": "2025-07-22T18:45:27.064126Z",
     "shell.execute_reply.started": "2025-07-22T18:45:26.412875Z"
    },
    "id": "ldlNMXcZCvMB",
    "outputId": "d05b2686-44f3-43e7-a5c2-b743d1b379f9"
   },
   "outputs": [
    {
     "data": {
      "image/png": "[encoded data removed]",
      "text/plain": [
       "<Figure size 1000x800 with 2 Axes>"
      ]
     },
     "metadata": {},
     "output_type": "display_data"
    }
   ],
   "source": [
    "# кореляція\n",
    "plt.figure(figsize=(10, 8))\n",
    "sns.heatmap(df.corr(numeric_only=True), annot=True, cmap='coolwarm', fmt='.2f')\n",
    "plt.title('Correlation Heatmap')\n",
    "plt.show()"
   ]
  },
  {
   "cell_type": "code",
   "execution_count": 12,
   "metadata": {
    "execution": {
     "iopub.execute_input": "2025-07-22T18:45:27.068121Z",
     "iopub.status.busy": "2025-07-22T18:45:27.066528Z",
     "iopub.status.idle": "2025-07-22T18:45:27.072929Z",
     "shell.execute_reply": "2025-07-22T18:45:27.071839Z",
     "shell.execute_reply.started": "2025-07-22T18:45:27.068079Z"
    },
    "id": "I_ynogUfGjMv"
   },
   "outputs": [],
   "source": [
    "# очістка даних\n",
    "# видалим колонку id - номер клієнта (не несе функціонального змісту)\n",
    "# обробимо subscription_age < 0 - помилка в даних(виправим)\n",
    "# заповним пропуски в reaming_contract - багато пропусків заповним медіаной\n",
    "# заповним пропуски в download_avg nf upload_avg\n",
    "# добавимо колонку-флаг contract_unknown - буде корисно\"пропущений контракт чи ні\""
   ]
  },
  {
   "cell_type": "code",
   "execution_count": 13,
   "metadata": {
    "execution": {
     "iopub.execute_input": "2025-07-22T18:45:27.074468Z",
     "iopub.status.busy": "2025-07-22T18:45:27.074133Z",
     "iopub.status.idle": "2025-07-22T18:45:27.149897Z",
     "shell.execute_reply": "2025-07-22T18:45:27.148713Z",
     "shell.execute_reply.started": "2025-07-22T18:45:27.074432Z"
    },
    "id": "S49uEpCtIFb1"
   },
   "outputs": [],
   "source": [
    "# видаляємо id\n",
    "if 'id' in df.columns:\n",
    "    df.drop('id', axis=1, inplace=True)\n",
    "\n",
    "# виправляємо мінусові значення терміну підписки\n",
    "df['subscription_age'] = df['subscription_age'].apply(lambda x: max(x, 0))\n",
    "\n",
    "# флаг, де відсутсвує контракт (1 - якщо пропущений)\n",
    "df['contract_unknown'] = df['reamining_contract'].isnull().astype(int)\n",
    "\n",
    "# заповнюємо пропуски\n",
    "# спочатку обчіслюємо мудіану\n",
    "median_contract = df['reamining_contract'].median()\n",
    "# остаток по контракту - медіаною\n",
    "df['reamining_contract'] = df['reamining_contract'].fillna(median_contract)\n",
    "\n",
    "# швидкості - нулями(інтернет відсутній)\n",
    "df['download_avg'] = df['download_avg'].fillna(0)\n",
    "df['upload_avg'] = df['upload_avg'].fillna(0)"
   ]
  },
  {
   "cell_type": "code",
   "execution_count": 14,
   "metadata": {
    "colab": {
     "base_uri": "https://localhost:8080/"
    },
    "execution": {
     "iopub.execute_input": "2025-07-22T18:45:27.151234Z",
     "iopub.status.busy": "2025-07-22T18:45:27.150918Z",
     "iopub.status.idle": "2025-07-22T18:45:27.185377Z",
     "shell.execute_reply": "2025-07-22T18:45:27.184104Z",
     "shell.execute_reply.started": "2025-07-22T18:45:27.151202Z"
    },
    "id": "BKCT8CBEjPQZ",
    "outputId": "0137e474-b545-4441-e5ec-b10d7b33ccbe"
   },
   "outputs": [
    {
     "name": "stdout",
     "output_type": "stream",
     "text": [
      "churn                    0         1\n",
      "is_tv_subscriber                    \n",
      "0                 0.103805  0.896195\n",
      "1                 0.523370  0.476630\n"
     ]
    }
   ],
   "source": [
    "# агрегація по ключовим признакам\n",
    "# доля віддотку по підписці на ТБ\n",
    "# is_tv_subscriber:\n",
    "# 0 — клієнт НЕ підписаний на ТБ\n",
    "# 1 — клієнт підписаний на ТБ\n",
    "# churn:\n",
    "# 0 — клієнт залишився\n",
    "# 1 — клієнт пішов\n",
    "tv_churn = df.groupby('is_tv_subscriber')['churn'].value_counts(normalize=True).unstack()\n",
    "print(tv_churn)"
   ]
  },
  {
   "cell_type": "markdown",
   "metadata": {
    "id": "MOZShrcyrLJi"
   },
   "source": [
    "Клієнти без ТВ (0) — мають ~89% вірогідності відтоку.\n",
    "З підпискою (1) — лише ~47%. Підписка на ТБ — знижує ризик відтоку."
   ]
  },
  {
   "cell_type": "code",
   "execution_count": 15,
   "metadata": {
    "colab": {
     "base_uri": "https://localhost:8080/"
    },
    "execution": {
     "iopub.execute_input": "2025-07-22T18:45:27.187777Z",
     "iopub.status.busy": "2025-07-22T18:45:27.187029Z",
     "iopub.status.idle": "2025-07-22T18:45:27.205626Z",
     "shell.execute_reply": "2025-07-22T18:45:27.204094Z",
     "shell.execute_reply.started": "2025-07-22T18:45:27.187742Z"
    },
    "id": "ZGfjGQ_CkaNr",
    "outputId": "5e1c1a6e-baba-4928-8626-237bd98c044b"
   },
   "outputs": [
    {
     "name": "stdout",
     "output_type": "stream",
     "text": [
      "Churn по is_movie_package_subscriber:\n",
      "churn                               0         1\n",
      "is_movie_package_subscriber                    \n",
      "0                            0.337582  0.662418\n",
      "1                            0.661154  0.338846\n"
     ]
    }
   ],
   "source": [
    "# доля відтоку по підписці на фільми\n",
    "# is_movie_package_subscriber:\n",
    "# 0 — НЕ підписаний на фільми\n",
    "# 1 — підписаний на фільми\n",
    "\n",
    "# churn:\n",
    "# 0 — залишився\n",
    "# 1 — пішов\n",
    "movie_churn = df.groupby('is_movie_package_subscriber')['churn'].value_counts(normalize=True).unstack()\n",
    "print('Churn по is_movie_package_subscriber:')\n",
    "print(movie_churn)"
   ]
  },
  {
   "cell_type": "markdown",
   "metadata": {
    "id": "XRF0sUgVrhyf"
   },
   "source": [
    "Підписка на фільми також знижує вірогідність відтоку майже вдвічі."
   ]
  },
  {
   "cell_type": "code",
   "execution_count": 16,
   "metadata": {
    "colab": {
     "base_uri": "https://localhost:8080/",
     "height": 178
    },
    "execution": {
     "iopub.execute_input": "2025-07-22T18:45:27.208309Z",
     "iopub.status.busy": "2025-07-22T18:45:27.207408Z",
     "iopub.status.idle": "2025-07-22T18:45:27.221136Z",
     "shell.execute_reply": "2025-07-22T18:45:27.220193Z",
     "shell.execute_reply.started": "2025-07-22T18:45:27.208276Z"
    },
    "id": "AiaSu5fFlz2F",
    "outputId": "addf1353-482b-4490-c745-5781108602f3"
   },
   "outputs": [
    {
     "data": {
      "text/html": [
       "<div>\n",
       "<style scoped>\n",
       "    .dataframe tbody tr th:only-of-type {\n",
       "        vertical-align: middle;\n",
       "    }\n",
       "\n",
       "    .dataframe tbody tr th {\n",
       "        vertical-align: top;\n",
       "    }\n",
       "\n",
       "    .dataframe thead th {\n",
       "        text-align: right;\n",
       "    }\n",
       "</style>\n",
       "<table border=\"1\" class=\"dataframe\">\n",
       "  <thead>\n",
       "    <tr style=\"text-align: right;\">\n",
       "      <th></th>\n",
       "      <th>bill_avg</th>\n",
       "    </tr>\n",
       "    <tr>\n",
       "      <th>churn</th>\n",
       "      <th></th>\n",
       "    </tr>\n",
       "  </thead>\n",
       "  <tbody>\n",
       "    <tr>\n",
       "      <th>0</th>\n",
       "      <td>19.252731</td>\n",
       "    </tr>\n",
       "    <tr>\n",
       "      <th>1</th>\n",
       "      <td>18.692859</td>\n",
       "    </tr>\n",
       "  </tbody>\n",
       "</table>\n",
       "</div><br><label><b>dtype:</b> float64</label>"
      ],
      "text/plain": [
       "churn\n",
       "0    19.252731\n",
       "1    18.692859\n",
       "Name: bill_avg, dtype: float64"
      ]
     },
     "execution_count": 16,
     "metadata": {},
     "output_type": "execute_result"
    }
   ],
   "source": [
    "# середній рахунок по cgurn(відписався чи ні)\n",
    "# churn:\n",
    "# 0 — залишився\n",
    "# 1 — пішов\n",
    "df.groupby('churn')['bill_avg'].mean()"
   ]
  },
  {
   "cell_type": "markdown",
   "metadata": {
    "id": "nUtJBgTBtFsO"
   },
   "source": [
    "Клієнти, які залишаються, платять трохи більше в середньому."
   ]
  },
  {
   "cell_type": "code",
   "execution_count": 17,
   "metadata": {
    "colab": {
     "base_uri": "https://localhost:8080/",
     "height": 178
    },
    "execution": {
     "iopub.execute_input": "2025-07-22T18:45:27.222524Z",
     "iopub.status.busy": "2025-07-22T18:45:27.222200Z",
     "iopub.status.idle": "2025-07-22T18:45:27.235638Z",
     "shell.execute_reply": "2025-07-22T18:45:27.234359Z",
     "shell.execute_reply.started": "2025-07-22T18:45:27.222498Z"
    },
    "id": "Lk5mIXXzk7qJ",
    "outputId": "618cc117-62a6-400c-f0d6-103dfbb86740"
   },
   "outputs": [
    {
     "data": {
      "text/html": [
       "<div>\n",
       "<style scoped>\n",
       "    .dataframe tbody tr th:only-of-type {\n",
       "        vertical-align: middle;\n",
       "    }\n",
       "\n",
       "    .dataframe tbody tr th {\n",
       "        vertical-align: top;\n",
       "    }\n",
       "\n",
       "    .dataframe thead th {\n",
       "        text-align: right;\n",
       "    }\n",
       "</style>\n",
       "<table border=\"1\" class=\"dataframe\">\n",
       "  <thead>\n",
       "    <tr style=\"text-align: right;\">\n",
       "      <th></th>\n",
       "      <th>subscription_age</th>\n",
       "    </tr>\n",
       "    <tr>\n",
       "      <th>churn</th>\n",
       "      <th></th>\n",
       "    </tr>\n",
       "  </thead>\n",
       "  <tbody>\n",
       "    <tr>\n",
       "      <th>0</th>\n",
       "      <td>2.727828</td>\n",
       "    </tr>\n",
       "    <tr>\n",
       "      <th>1</th>\n",
       "      <td>2.226554</td>\n",
       "    </tr>\n",
       "  </tbody>\n",
       "</table>\n",
       "</div><br><label><b>dtype:</b> float64</label>"
      ],
      "text/plain": [
       "churn\n",
       "0    2.727828\n",
       "1    2.226554\n",
       "Name: subscription_age, dtype: float64"
      ]
     },
     "execution_count": 17,
     "metadata": {},
     "output_type": "execute_result"
    }
   ],
   "source": [
    "# середній тривалість підписки\n",
    "# churn:\n",
    "# 0 — залишився\n",
    "# 1 — пішов\n",
    "df.groupby('churn')['subscription_age'].mean()"
   ]
  },
  {
   "cell_type": "markdown",
   "metadata": {
    "id": "wZFQ2RHNtQBT"
   },
   "source": [
    "Чим довше користуються — тим менше шанс відтоку"
   ]
  },
  {
   "cell_type": "code",
   "execution_count": 18,
   "metadata": {
    "colab": {
     "base_uri": "https://localhost:8080/",
     "height": 178
    },
    "execution": {
     "iopub.execute_input": "2025-07-22T18:45:27.237099Z",
     "iopub.status.busy": "2025-07-22T18:45:27.236725Z",
     "iopub.status.idle": "2025-07-22T18:45:27.265920Z",
     "shell.execute_reply": "2025-07-22T18:45:27.264962Z",
     "shell.execute_reply.started": "2025-07-22T18:45:27.237071Z"
    },
    "id": "T5aKBNlxlrII",
    "outputId": "f50a5c70-0bad-411f-b9a8-b8152189b474"
   },
   "outputs": [
    {
     "data": {
      "text/html": [
       "<div>\n",
       "<style scoped>\n",
       "    .dataframe tbody tr th:only-of-type {\n",
       "        vertical-align: middle;\n",
       "    }\n",
       "\n",
       "    .dataframe tbody tr th {\n",
       "        vertical-align: top;\n",
       "    }\n",
       "\n",
       "    .dataframe thead th {\n",
       "        text-align: right;\n",
       "    }\n",
       "</style>\n",
       "<table border=\"1\" class=\"dataframe\">\n",
       "  <thead>\n",
       "    <tr style=\"text-align: right;\">\n",
       "      <th></th>\n",
       "      <th>reamining_contract</th>\n",
       "    </tr>\n",
       "    <tr>\n",
       "      <th>churn</th>\n",
       "      <th></th>\n",
       "    </tr>\n",
       "  </thead>\n",
       "  <tbody>\n",
       "    <tr>\n",
       "      <th>0</th>\n",
       "      <td>1.043854</td>\n",
       "    </tr>\n",
       "    <tr>\n",
       "      <th>1</th>\n",
       "      <td>0.373620</td>\n",
       "    </tr>\n",
       "  </tbody>\n",
       "</table>\n",
       "</div><br><label><b>dtype:</b> float64</label>"
      ],
      "text/plain": [
       "churn\n",
       "0    1.043854\n",
       "1    0.373620\n",
       "Name: reamining_contract, dtype: float64"
      ]
     },
     "execution_count": 18,
     "metadata": {},
     "output_type": "execute_result"
    }
   ],
   "source": [
    "# остаток контракту в залежності від churm\n",
    "# churn:\n",
    "# 0 — залишився\n",
    "# 1 — пішов\n",
    "df.groupby('churn')['reamining_contract'].mean()"
   ]
  },
  {
   "cell_type": "markdown",
   "metadata": {
    "id": "SksbGTnPtfQh"
   },
   "source": [
    "Чим менше залишилось по контракту — тим вища ймовірність відтоку.\n",
    "Тобто коли договір майже завершився — клієнти частіше йдуть."
   ]
  },
  {
   "cell_type": "markdown",
   "metadata": {
    "id": "XV6DL8J91FLP"
   },
   "source": [
    "Висновки:\n",
    "Файл internet_service_churn.csv:\n",
    "- розмір: 72 274 записів, 11 колонок;\n",
    "- переважно числові типи: int64, float64;\n",
    "- багато бінарних ознак (0/1): is_tv_subscriber, is_movie_package_subscriber, churn;\n",
    "Пропуски:\n",
    "- reamining_contract: 21 572 пропусків - заповнено медіанним значенням;\n",
    "- download_avg, upload_avg: 381 пропуск - заповнено нулями (відсутній інтернет);\n",
    "- створено нову фічу - contract_unknown = 1, якщо значення reamining_contract було пропущене;\n",
    "Дублі\n",
    "Дублікатів не виявлено (df.duplicated().sum() == 0).\n",
    "Аномалії\n",
    "- виявлено від’ємні значення у subscription_age - замінено на 0;\n",
    "- bill_avg має максимум 406 - розглянуто як допустиме значення (без аномалій).\n",
    "Кореляційна матриця\n",
    "Створено теплову карту через sns.heatmap()\n",
    "Сильна кореляція між: download_avg - upload_avg\n",
    "Інших сильних залежностей немає.\n",
    "Агрегації (churn analysis)\n",
    "Підписка на ТБ:\n",
    "Без підписки — 89% пішли\n",
    "З підпискою — лише 47%\n",
    "Підписка на фільми:\n",
    "Без підписки — 66% пішли\n",
    "З підпискою — лише 34%\n",
    "Середній чек:\n",
    "Ті, хто залишилися — платили більше\n",
    "subscription_age:\n",
    "Вища у тих, хто залишився\n",
    "Залишок контракту:\n",
    "Довший у тих, хто залишився.\n",
    "Висновки:\n",
    "Є кілька важливих чинників, що мають вплив на відтік клієнтів:\n",
    "- наявність підписки на ТВ/кіно;\n",
    "- тривалість користування послугою (subscription_age);\n",
    "- залишок контракту (reamining_contract)\n",
    "\n",
    "Дані очищені та готові до моделювання"
   ]
  },
  {
   "cell_type": "markdown",
   "metadata": {
    "id": "iWkS0VfpTWwU"
   },
   "source": [
    "## **2. Попередня Обробка Даних**"
   ]
  },
  {
   "cell_type": "code",
   "execution_count": 19,
   "metadata": {
    "execution": {
     "iopub.execute_input": "2025-07-22T18:51:56.414553Z",
     "iopub.status.busy": "2025-07-22T18:51:56.414235Z",
     "iopub.status.idle": "2025-07-22T18:51:56.423872Z",
     "shell.execute_reply": "2025-07-22T18:51:56.422691Z",
     "shell.execute_reply.started": "2025-07-22T18:51:56.414530Z"
    },
    "id": "o1WScMm8TWwU"
   },
   "outputs": [],
   "source": [
    "# 1. Відокремлюємо цільову змінну (y) та ознаки (X)\n",
    "y = df['churn']                     # Цільова змінна - чи пішов клієнт\n",
    "X = df.drop('churn', axis=1)        # Всі інші стовпці - ознаки"
   ]
  },
  {
   "cell_type": "code",
   "execution_count": 20,
   "metadata": {
    "execution": {
     "iopub.execute_input": "2025-07-22T18:53:07.279168Z",
     "iopub.status.busy": "2025-07-22T18:53:07.278835Z",
     "iopub.status.idle": "2025-07-22T18:53:07.288840Z",
     "shell.execute_reply": "2025-07-22T18:53:07.287836Z",
     "shell.execute_reply.started": "2025-07-22T18:53:07.279146Z"
    },
    "id": "i_tQSwrDTWwV"
   },
   "outputs": [],
   "source": [
    "# 2. Перетворюємо цільову змінну з текстової у числову (0 або 1)\n",
    "le = LabelEncoder()\n",
    "y_encoded = le.fit_transform(y)    # Наприклад: 'Yes' -> 1, 'No' -> 0"
   ]
  },
  {
   "cell_type": "code",
   "execution_count": 21,
   "metadata": {
    "execution": {
     "iopub.execute_input": "2025-07-22T18:53:09.948162Z",
     "iopub.status.busy": "2025-07-22T18:53:09.947141Z",
     "iopub.status.idle": "2025-07-22T18:53:09.972933Z",
     "shell.execute_reply": "2025-07-22T18:53:09.971817Z",
     "shell.execute_reply.started": "2025-07-22T18:53:09.948132Z"
    },
    "id": "F7tPnHI8TWwV"
   },
   "outputs": [],
   "source": [
    "# 3. Визначаємо, які колонки є числовими, а які — категоріальними\n",
    "categorical_cols = X.select_dtypes(include=['object']).columns.tolist()\n",
    "numeric_cols = X.select_dtypes(include=['int64', 'float64']).columns.tolist()"
   ]
  },
  {
   "cell_type": "code",
   "execution_count": 22,
   "metadata": {
    "execution": {
     "iopub.execute_input": "2025-07-22T18:53:13.209398Z",
     "iopub.status.busy": "2025-07-22T18:53:13.209106Z",
     "iopub.status.idle": "2025-07-22T18:53:13.291875Z",
     "shell.execute_reply": "2025-07-22T18:53:13.291071Z",
     "shell.execute_reply.started": "2025-07-22T18:53:13.209379Z"
    },
    "id": "r3THjvQbTWwV"
   },
   "outputs": [],
   "source": [
    "# --- Підготовка pipeline з StandardScaler ---\n",
    "# Масштабуємо числові ознаки до стандартного нормального розподілу (середнє = 0, стандартне відхилення = 1)\n",
    "# Також кодуємо категоріальні змінні в one-hot формат\n",
    "ct_standard = ColumnTransformer([\n",
    "    ('num', StandardScaler(), numeric_cols),                              # масштабуємо числові\n",
    "    ('cat', OneHotEncoder(handle_unknown='ignore'), categorical_cols)     # one-hot для категоріальних\n",
    "])\n",
    "X_standard = ct_standard.fit_transform(X)  # Застосовуємо трансформації до всіх даних"
   ]
  },
  {
   "cell_type": "code",
   "execution_count": 23,
   "metadata": {
    "execution": {
     "iopub.execute_input": "2025-07-22T18:53:15.753983Z",
     "iopub.status.busy": "2025-07-22T18:53:15.753663Z",
     "iopub.status.idle": "2025-07-22T18:53:15.778893Z",
     "shell.execute_reply": "2025-07-22T18:53:15.777993Z",
     "shell.execute_reply.started": "2025-07-22T18:53:15.753960Z"
    },
    "id": "7Q6JFjSETWwW"
   },
   "outputs": [],
   "source": [
    "# --- Підготовка pipeline з MinMaxScaler ---\n",
    "# Масштабуємо числові ознаки у діапазон [0, 1]\n",
    "ct_minmax = ColumnTransformer([\n",
    "    ('num', MinMaxScaler(), numeric_cols),\n",
    "    ('cat', OneHotEncoder(handle_unknown='ignore'), categorical_cols)\n",
    "])\n",
    "X_minmax = ct_minmax.fit_transform(X)"
   ]
  },
  {
   "cell_type": "code",
   "execution_count": 24,
   "metadata": {
    "execution": {
     "iopub.execute_input": "2025-07-22T18:53:18.694848Z",
     "iopub.status.busy": "2025-07-22T18:53:18.694498Z",
     "iopub.status.idle": "2025-07-22T18:53:18.721850Z",
     "shell.execute_reply": "2025-07-22T18:53:18.721059Z",
     "shell.execute_reply.started": "2025-07-22T18:53:18.694827Z"
    },
    "id": "hYvSXcz_TWwW"
   },
   "outputs": [],
   "source": [
    "# --- Розбиваємо дані на тренувальний і тестовий набори (80/20) ---\n",
    "# Для StandardScaler\n",
    "X_train_std, X_test_std, y_train, y_test = train_test_split(X_standard, y_encoded, test_size=0.2, random_state=42)\n",
    "\n",
    "# Для MinMaxScaler (y_train і y_test ті ж самі, щоб порівняння було справедливим)\n",
    "X_train_min, X_test_min, _, _ = train_test_split(X_minmax, y_encoded, test_size=0.2, random_state=42)"
   ]
  },
  {
   "cell_type": "code",
   "execution_count": 25,
   "metadata": {
    "execution": {
     "iopub.execute_input": "2025-07-22T18:53:20.551950Z",
     "iopub.status.busy": "2025-07-22T18:53:20.551644Z",
     "iopub.status.idle": "2025-07-22T18:53:20.675762Z",
     "shell.execute_reply": "2025-07-22T18:53:20.675063Z",
     "shell.execute_reply.started": "2025-07-22T18:53:20.551929Z"
    },
    "id": "Ql-Zn9AkTWwX"
   },
   "outputs": [],
   "source": [
    "# --- Навчання моделі LogisticRegression з даними, масштабованими StandardScaler ---\n",
    "model_std = LogisticRegression(max_iter=1000)  # Збільшуємо кількість ітерацій для надійності\n",
    "model_std.fit(X_train_std, y_train)            # Навчаємо модель\n",
    "y_pred_std = model_std.predict(X_test_std)     # Робимо передбачення\n",
    "acc_std = accuracy_score(y_test, y_pred_std)   # Обчислюємо точність"
   ]
  },
  {
   "cell_type": "code",
   "execution_count": 26,
   "metadata": {
    "execution": {
     "iopub.execute_input": "2025-07-22T18:53:23.152880Z",
     "iopub.status.busy": "2025-07-22T18:53:23.152528Z",
     "iopub.status.idle": "2025-07-22T18:53:23.798630Z",
     "shell.execute_reply": "2025-07-22T18:53:23.795482Z",
     "shell.execute_reply.started": "2025-07-22T18:53:23.152858Z"
    },
    "id": "BjP_wN18TWwY"
   },
   "outputs": [],
   "source": [
    "# --- Навчання моделі LogisticRegression з даними, масштабованими MinMaxScaler ---\n",
    "model_min = LogisticRegression(max_iter=1000)\n",
    "model_min.fit(X_train_min, y_train)\n",
    "y_pred_min = model_min.predict(X_test_min)\n",
    "acc_min = accuracy_score(y_test, y_pred_min)"
   ]
  },
  {
   "cell_type": "code",
   "execution_count": 27,
   "metadata": {
    "colab": {
     "base_uri": "https://localhost:8080/"
    },
    "execution": {
     "iopub.execute_input": "2025-07-22T18:53:26.537034Z",
     "iopub.status.busy": "2025-07-22T18:53:26.536732Z",
     "iopub.status.idle": "2025-07-22T18:53:26.542818Z",
     "shell.execute_reply": "2025-07-22T18:53:26.541812Z",
     "shell.execute_reply.started": "2025-07-22T18:53:26.536987Z"
    },
    "id": "VOdmrLCcTWwY",
    "outputId": "f67054d9-e0ee-4708-d294-679e154ccf80"
   },
   "outputs": [
    {
     "name": "stdout",
     "output_type": "stream",
     "text": [
      "Точність LogisticRegression з StandardScaler: 0.8767\n",
      "Точність LogisticRegression з MinMaxScaler: 0.8754\n"
     ]
    }
   ],
   "source": [
    "# --- Виводимо результати ---\n",
    "print(f\"Точність LogisticRegression з StandardScaler: {acc_std:.4f}\")\n",
    "print(f\"Точність LogisticRegression з MinMaxScaler: {acc_min:.4f}\")"
   ]
  },
  {
   "cell_type": "code",
   "execution_count": 28,
   "metadata": {
    "colab": {
     "base_uri": "https://localhost:8080/"
    },
    "execution": {
     "iopub.execute_input": "2025-07-22T18:57:13.217695Z",
     "iopub.status.busy": "2025-07-22T18:57:13.217354Z",
     "iopub.status.idle": "2025-07-22T18:57:13.227187Z",
     "shell.execute_reply": "2025-07-22T18:57:13.226397Z",
     "shell.execute_reply.started": "2025-07-22T18:57:13.217649Z"
    },
    "id": "7vNu7B6wTWwZ",
    "outputId": "f3e66dec-0e4d-4e45-c314-176a309cd4f0"
   },
   "outputs": [
    {
     "name": "stdout",
     "output_type": "stream",
     "text": [
      "\n",
      "Топ важливих ознак:\n",
      "                        Feature  Coefficient  Importance\n",
      "4           reamining_contract    -1.664902    1.664902\n",
      "9             contract_unknown     1.248786    1.248786\n",
      "6                 download_avg    -0.629274    0.629274\n",
      "2             subscription_age    -0.587683    0.587683\n",
      "0             is_tv_subscriber    -0.579408    0.579408\n",
      "8          download_over_limit     0.393505    0.393505\n",
      "5        service_failure_count     0.126475    0.126475\n",
      "3                     bill_avg    -0.080879    0.080879\n",
      "1  is_movie_package_subscriber    -0.015902    0.015902\n",
      "7                   upload_avg     0.002675    0.002675\n"
     ]
    }
   ],
   "source": [
    "# Важливість ознак для стандартних даних\n",
    "coefficients = model_std.coef_[0]\n",
    "feature_names = X.columns\n",
    "feature_importance = pd.DataFrame({\n",
    "    'Feature': feature_names,\n",
    "    'Coefficient': coefficients,\n",
    "    'Importance': np.abs(coefficients)\n",
    "}).sort_values(by='Importance', ascending=False)\n",
    "print(\"\\nТоп важливих ознак:\\n\", feature_importance.head(10))"
   ]
  },
  {
   "cell_type": "code",
   "execution_count": 29,
   "metadata": {
    "colab": {
     "base_uri": "https://localhost:8080/"
    },
    "execution": {
     "iopub.execute_input": "2025-07-22T19:01:01.652961Z",
     "iopub.status.busy": "2025-07-22T19:01:01.652557Z",
     "iopub.status.idle": "2025-07-22T19:01:01.699616Z",
     "shell.execute_reply": "2025-07-22T19:01:01.698583Z",
     "shell.execute_reply.started": "2025-07-22T19:01:01.652937Z"
    },
    "id": "oPbixwsiTWwZ",
    "outputId": "39d9f8a5-87cc-4a14-f50f-4a4f4736d960"
   },
   "outputs": [
    {
     "name": "stdout",
     "output_type": "stream",
     "text": [
      "\n",
      "Обрані ознаки за SelectKBest:\n",
      " Index(['is_tv_subscriber', 'is_movie_package_subscriber', 'subscription_age',\n",
      "       'bill_avg', 'reamining_contract', 'service_failure_count',\n",
      "       'download_avg', 'upload_avg', 'download_over_limit',\n",
      "       'contract_unknown'],\n",
      "      dtype='object')\n"
     ]
    }
   ],
   "source": [
    "# SelectKBest — обираємо 10 найважливіших ознак\n",
    "selector = SelectKBest(score_func=f_classif, k=10)\n",
    "X_train_selected = selector.fit_transform(X_train_std, y_train)\n",
    "X_test_selected = selector.transform(X_test_std)\n",
    "selected_feature_names = feature_names[selector.get_support()]\n",
    "print(\"\\nОбрані ознаки за SelectKBest:\\n\", selected_feature_names)"
   ]
  },
  {
   "cell_type": "code",
   "execution_count": 30,
   "metadata": {
    "colab": {
     "base_uri": "https://localhost:8080/"
    },
    "execution": {
     "iopub.execute_input": "2025-07-22T19:01:23.098643Z",
     "iopub.status.busy": "2025-07-22T19:01:23.098314Z",
     "iopub.status.idle": "2025-07-22T19:01:23.203424Z",
     "shell.execute_reply": "2025-07-22T19:01:23.200898Z",
     "shell.execute_reply.started": "2025-07-22T19:01:23.098618Z"
    },
    "id": "J8edjmjnTWwa",
    "outputId": "4c2152b0-330d-491a-83d6-56b670d0c6f1"
   },
   "outputs": [
    {
     "name": "stdout",
     "output_type": "stream",
     "text": [
      "\n",
      "Точність LogisticRegression з відібраними ознаками: 0.8767\n"
     ]
    }
   ],
   "source": [
    "# Модель на скорочених ознаках\n",
    "model_selected = LogisticRegression(max_iter=1000)\n",
    "model_selected.fit(X_train_selected, y_train)\n",
    "y_pred_selected = model_selected.predict(X_test_selected)\n",
    "acc_selected = accuracy_score(y_test, y_pred_selected)\n",
    "print(f\"\\nТочність LogisticRegression з відібраними ознаками: {acc_selected:.4f}\")"
   ]
  },
  {
   "cell_type": "markdown",
   "metadata": {
    "id": "X1iPiQHYTWwa"
   },
   "source": [
    "На цьому етапі успішно виконана попередня обробка даних, що включала наступні кроки:\n",
    "- Енкодинг категоріальних ознак:\n",
    "Для ознак, що містять текстові значення (тип підписки тощо), застосовано One-Hot Encoding, щоб перетворити їх у числовий формат, придатний для моделювання.\n",
    "Цільову змінну (тип відтоку) перетворено за допомогою Label Encoding, оскільки вона має лише два категоріальні значення.\n",
    "- Масштабування числових ознак:\n",
    "Проведено порівняння між StandardScaler та MinMaxScaler, оскільки числові ознаки мали різні діапазони значень.\n",
    "Найкращий результат показала модель з StandardScaler, точність склала 0.8767, що трохи вище за результат з MinMaxScaler (0.8756).\n",
    "- Відбір ознак:\n",
    "Було застосовано SelectKBest, щоб оцінити, чи можна зменшити кількість ознак без втрати точності.\n",
    "Після відбору ознак точність моделі залишилася на рівні 0.8767, що свідчить про те, що деякі ознаки можна відкинути без втрати якості моделі.\n",
    "\n",
    "Для подальшої роботи з моделями рекомендовано використовувати X_train_std, X_test_std, y_train, y_test - тобто дані після масштабування через StandardScaler."
   ]
  },
  {
   "cell_type": "markdown",
   "metadata": {
    "id": "C5E_hl8fTWws"
   },
   "source": [
    "## **3. Розробка Моделі**"
   ]
  },
  {
   "cell_type": "code",
   "execution_count": 31,
   "metadata": {
    "id": "tVTHJdQgW6q7"
   },
   "outputs": [],
   "source": [
    "\n",
    "#  1. Створюємо моделі\n",
    "models = {\n",
    "    \"Logistic Regression\": LogisticRegression(max_iter=1000, random_state=42),\n",
    "    \"Random Forest\": RandomForestClassifier(random_state=42),\n",
    "    \"XGBoost\": XGBClassifier( eval_metric='logloss', random_state=42)\n",
    "}"
   ]
  },
  {
   "cell_type": "markdown",
   "metadata": {
    "id": "H6goTQbaK4Kr"
   },
   "source": [
    "Чому саме ці моделі\n",
    "\n",
    "| Модель                  | Пояснення                                                                              |\n",
    "| ----------------------- | -------------------------------------------------------------------------------------- |\n",
    "| **Logistic Regression** | Базова інтерпретована модель для класифікації, швидка, легка в аналізі                 |\n",
    "| **Random Forest**       | Міцна до шуму, добре працює на табличних даних, автоматично враховує нелінійності      |\n",
    "| **XGBoost**             | Потужна модель градієнтного бустингу, часто дає найкращі результати на табличних даних |\n",
    "\n"
   ]
  },
  {
   "cell_type": "code",
   "execution_count": 32,
   "metadata": {
    "colab": {
     "base_uri": "https://localhost:8080/"
    },
    "id": "9tvwjDiJIQot",
    "outputId": "7e731e29-25cd-4d10-a344-d02d4483d632"
   },
   "outputs": [
    {
     "name": "stdout",
     "output_type": "stream",
     "text": [
      "\n",
      " Logistic Regression\n",
      "Cross-val F1 (train): 0.8924\n",
      "Accuracy: 0.8767\n",
      "Precision: 0.8681\n",
      "Recall: 0.9133\n",
      "F1 Score: 0.8901\n",
      "\n",
      " Random Forest\n",
      "Cross-val F1 (train): 0.9451\n",
      "Accuracy: 0.9413\n",
      "Precision: 0.9539\n",
      "Recall: 0.938\n",
      "F1 Score: 0.9459\n",
      "\n",
      " XGBoost\n",
      "Cross-val F1 (train): 0.9474\n",
      "Accuracy: 0.9428\n",
      "Precision: 0.9543\n",
      "Recall: 0.9404\n",
      "F1 Score: 0.9473\n"
     ]
    }
   ],
   "source": [
    "# 2. Навчаємо та оцінюємо кожну модель\n",
    "for name, model in models.items():\n",
    "    print(f\"\\n {name}\")\n",
    "    # Крос-валідація по F1\n",
    "    f1_cv = cross_val_score(model, X_train_std, y_train, cv=5, scoring='f1').mean()\n",
    "\n",
    "    # Навчання\n",
    "    model.fit(X_train_std, y_train)\n",
    "\n",
    "    # Прогноз\n",
    "    y_pred = model.predict(X_test_std)\n",
    "\n",
    "    # Метрики\n",
    "    print(\"Cross-val F1 (train):\", round(f1_cv, 4))\n",
    "    print(\"Accuracy:\", round(accuracy_score(y_test, y_pred), 4))\n",
    "    print(\"Precision:\", round(precision_score(y_test, y_pred), 4))\n",
    "    print(\"Recall:\", round(recall_score(y_test, y_pred), 4))\n",
    "    print(\"F1 Score:\", round(f1_score(y_test, y_pred), 4))"
   ]
  },
  {
   "cell_type": "code",
   "execution_count": 33,
   "metadata": {
    "id": "Ic96hIMDIW5A"
   },
   "outputs": [],
   "source": [
    "\n",
    "#  3. Зберігаємо найкращу модель — XGBoost\n",
    "best_model = XGBClassifier(eval_metric='logloss', random_state=42)\n",
    "best_model.fit(X_train_std, y_train)\n",
    "\n",
    "# Створення теки, якщо потрібно\n",
    "import os\n",
    "os.makedirs(\"models\", exist_ok=True)\n",
    "\n",
    "with open(\"models/best_model.pkl\", \"wb\") as f:\n",
    "    pickle.dump(best_model, f)"
   ]
  },
  {
   "cell_type": "markdown",
   "metadata": {
    "id": "-OW1lVhkLie5"
   },
   "source": [
    "###  Висновки:\n",
    "\n",
    "* XGBoost показала найкращі результати за всіма\n",
    "метриками: точність, precision, recall, F1.\n",
    "*  Random Forest — майже такий самий результат, але\n",
    "трохи програє у recall.\n",
    "\n",
    "* Logistic Regression показує нижчі результати, але є найпростіша в інтерпретації.\n",
    "\n",
    "**Обрана модель**: XGBoost\n",
    " Найвища узагальнююча здатність (train F1 ≈ test F1), хороша точність та recall.\n",
    "\n"
   ]
  }
 ],
 "metadata": {
  "colab": {
   "provenance": []
  },
  "kaggle": {
   "accelerator": "none",
   "dataSources": [],
   "dockerImageVersionId": 31089,
   "isGpuEnabled": false,
   "isInternetEnabled": true,
   "language": "python",
   "sourceType": "notebook"
  },
  "kernelspec": {
   "display_name": "Python 3 (ipykernel)",
   "language": "python",
   "name": "python3"
  },
  "language_info": {
   "codemirror_mode": {
    "name": "ipython",
    "version": 3
   },
   "file_extension": ".py",
   "mimetype": "text/x-python",
   "name": "python",
   "nbconvert_exporter": "python",
   "pygments_lexer": "ipython3",
   "version": "3.12.2"
  }
 },
 "nbformat": 4,
 "nbformat_minor": 4
}
